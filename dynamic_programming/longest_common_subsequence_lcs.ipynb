{
 "cells": [
  {
   "cell_type": "markdown",
   "metadata": {},
   "source": [
    "# Longest Common Subsequence (LCS)\n",
    "\n",
    "Given two strings, return the length of the longest common subsequence between them\n",
    "\n",
    "Trick:\n",
    "   + Start traversing both strings (X of length n and Y of length m respectively) in reverse order\n",
    "   + if last characters of both X and Y match, i.e. X[n-1] == Y[m-1] then LCS = 1 + LCS(X[n-2],Y[m-2])\n",
    "   + otherwise: max(LCS(X[n-2],Y[m-1]) , LCS(X[n-1],Y[m-2]))"
   ]
  },
  {
   "cell_type": "markdown",
   "metadata": {},
   "source": [
    "## Tabulation Method\n",
    "+ Bottom up approach\n",
    "+ Fills all values before doing lookup\n",
    "+ Fast lookup"
   ]
  },
  {
   "cell_type": "code",
   "execution_count": 1,
   "metadata": {
    "collapsed": true
   },
   "outputs": [],
   "source": [
    "# Returns the length of the LCS\n",
    "# based upon input strings X and Y\n",
    "def LCS(X,Y):\n",
    "    n = len(X)\n",
    "    m = len(Y)\n",
    "    \n",
    "    lcs_matrix = [[0 for y in range(m+1)] for x in range(n+1)]\n",
    "    \n",
    "    for i in range(n+1):\n",
    "        for j in range(m+1):\n",
    "            if i == 0 or j == 0:\n",
    "                lcs_matrix[i][j] = 0\n",
    "            elif X[i-1] == Y[j-1]:\n",
    "                lcs_matrix[i][j] = 1 + lcs_matrix[i-1][j-1]\n",
    "            elif X[i-1] != Y[j-1]:\n",
    "                lcs_matrix[i][j] = max(lcs_matrix[i-1][j],lcs_matrix[i][j-1])\n",
    "    return lcs_matrix[n][m]"
   ]
  },
  {
   "cell_type": "code",
   "execution_count": 2,
   "metadata": {},
   "outputs": [
    {
     "name": "stdout",
     "output_type": "stream",
     "text": [
      "LCS(ABCDGH, AEDFHR) = 3\n",
      "LCS(AGGTAB, GXTXAYB) = 4\n"
     ]
    }
   ],
   "source": [
    "print(\"LCS(ABCDGH, AEDFHR) = {}\".format(LCS(\"ABCDGH\", \"AEDFHR\")))\n",
    "print(\"LCS(AGGTAB, GXTXAYB) = {}\".format(LCS(\"AGGTAB\", \"GXTXAYB\")))"
   ]
  },
  {
   "cell_type": "markdown",
   "metadata": {},
   "source": [
    "---\n",
    "## TODO\n",
    "Print the LCS itself"
   ]
  }
 ],
 "metadata": {
  "kernelspec": {
   "display_name": "Python 3",
   "language": "python",
   "name": "python3"
  },
  "language_info": {
   "codemirror_mode": {
    "name": "ipython",
    "version": 3
   },
   "file_extension": ".py",
   "mimetype": "text/x-python",
   "name": "python",
   "nbconvert_exporter": "python",
   "pygments_lexer": "ipython3",
   "version": "3.5.3"
  }
 },
 "nbformat": 4,
 "nbformat_minor": 2
}
