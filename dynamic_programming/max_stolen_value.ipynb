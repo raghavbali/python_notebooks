{
 "cells": [
  {
   "cell_type": "markdown",
   "metadata": {},
   "source": [
    "# Maximum Possible Stolen Value from Houses\n",
    "\n",
    "There are n houses each having certain value associated with it.  A thief is going to steal the maximal value of these houses, but he can’t steal in two adjacent houses because owner of the stolen houses will tell his two neighbour left and right side. What is the maximum stolen value?\n",
    "\n",
    "Ex: house values [6, 7, 1, 3, 8, 2, 4], max value is 19 from 6, 1, 8 and 4\n",
    "\n",
    "Trick:\n",
    "   + maximum of:\n",
    "       + h[i]+h[i-2] or\n",
    "       + h[i-1]"
   ]
  },
  {
   "cell_type": "markdown",
   "metadata": {},
   "source": [
    "## Tabulation Method\n",
    "+ Bottom Up approach\n",
    "+ Fast Access"
   ]
  },
  {
   "cell_type": "code",
   "execution_count": 1,
   "metadata": {
    "scrolled": false
   },
   "outputs": [],
   "source": [
    "# Using the house values, returns the max stolen value possible\n",
    "def get_max_stolen_val(house_val_list):\n",
    "    # initialization\n",
    "    num_houses = len(house_val_list)\n",
    "    dp_max_stolen = [0]*num_houses\n",
    "    \n",
    "    # set entry conditions\n",
    "    dp_max_stolen[0] = house_val_list[0]\n",
    "    dp_max_stolen[1] = house_val_list[1]\n",
    "    \n",
    "    # loop through house values to get max\n",
    "    for i in range(2,num_houses):\n",
    "        dp_max_stolen[i] = max(dp_max_stolen[i-1],\n",
    "                              dp_max_stolen[i-2] + house_val_list[i])\n",
    "    # return maximum stolen value\n",
    "    return dp_max_stolen[-1]"
   ]
  },
  {
   "cell_type": "code",
   "execution_count": 2,
   "metadata": {},
   "outputs": [
    {
     "name": "stdout",
     "output_type": "stream",
     "text": [
      "For house values::[5, 3, 4, 11, 2], max stolen value possible is = 14\n",
      "For house values::[6, 7, 1, 3, 8, 2, 4], max stolen value possible is = 19\n"
     ]
    }
   ],
   "source": [
    "h_val1 = [5, 3, 4, 11, 2]\n",
    "print(\"For house values::{}, max stolen value possible is = {}\".format(h_val1,\n",
    "                                                                    get_max_stolen_val(h_val1)))\n",
    "\n",
    "h_val2 = [6, 7, 1, 3, 8, 2, 4]\n",
    "print(\"For house values::{}, max stolen value possible is = {}\".format(h_val2,\n",
    "                                                                    get_max_stolen_val(h_val2)))"
   ]
  }
 ],
 "metadata": {
  "kernelspec": {
   "display_name": "Python 3",
   "language": "python",
   "name": "python3"
  },
  "language_info": {
   "codemirror_mode": {
    "name": "ipython",
    "version": 3
   },
   "file_extension": ".py",
   "mimetype": "text/x-python",
   "name": "python",
   "nbconvert_exporter": "python",
   "pygments_lexer": "ipython3",
   "version": "3.5.3"
  }
 },
 "nbformat": 4,
 "nbformat_minor": 2
}
