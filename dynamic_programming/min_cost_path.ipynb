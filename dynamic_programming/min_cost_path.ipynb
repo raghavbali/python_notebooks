{
 "cells": [
  {
   "cell_type": "markdown",
   "metadata": {},
   "source": [
    "# Minimum Cost Path \n",
    "\n",
    "Given a cost matrix cost[][] and a position (m, n) in cost[][], write a function that returns cost of minimum cost path to reach (m, n) from (0, 0). You can only traverse down, right and diagonally lower cells from a given cell, i.e., from a given cell (i, j), cells (i+1, j), (i, j+1) and (i+1, j+1) can be traversed. \n",
    "\n",
    "\n",
    "Example:\n",
    "\n",
    "Given the following cost matrix, the minimum cost path to position (2,2) is 8 (1+2+2+3).\n",
    "\n",
    "1, 2, 3\n",
    "\n",
    "4, 8, 2\n",
    "\n",
    "1, 5, 3\n",
    "\n",
    "Trick:\n",
    "   + Construct a traversal matrix T of size(C) where C is the cost matrix\n",
    "   + Copy the First row and First Column as is from C\n",
    "   + Populate the matrix T as:\n",
    "       + T[i][j] = C[i][j] + min(T[i][j-1],T[i-1],[j-1],T[i-1][j])\n",
    "   + return T[m][n] for input m and n"
   ]
  },
  {
   "cell_type": "markdown",
   "metadata": {},
   "source": [
    "## Tabulation Method\n",
    "+ Bottom Up approach\n",
    "+ Fast Access"
   ]
  },
  {
   "cell_type": "code",
   "execution_count": 1,
   "metadata": {
    "scrolled": false
   },
   "outputs": [],
   "source": [
    "import numpy as np\n",
    "\n",
    "# build the size matrix\n",
    "def _init_traversal_matrix(cost_matrix):\n",
    "    # initialize the size matrix's first row and column\n",
    "    traversal_matrix = [[ element+cost_matrix[ridx][cidx] - cost_matrix[0][0] \\\n",
    "                         if (cidx==0 or ridx==0) else 0  \\\n",
    "                            for cidx,element in enumerate(row) ] \\\n",
    "                               for ridx,row in enumerate(cost_matrix)]\n",
    "    \n",
    "    # iterate through input matrix to build size matrix\n",
    "    # from second row second column onwards\n",
    "    for ridx,row in enumerate([i[1:] for i in traversal_matrix[1:]]):\n",
    "        for cidx,col in enumerate(row):\n",
    "            traversal_matrix[ridx+1][cidx+1] = cost_matrix[ridx+1][cidx+1] + min(traversal_matrix[ridx+1][cidx],\n",
    "                                                                         traversal_matrix[ridx][cidx+1],\n",
    "                                                                         traversal_matrix[ridx][cidx])                              \n",
    "    return traversal_matrix\n",
    "\n",
    "# return the min cost path for provided indices\n",
    "def get_min_cost_path(row,col):\n",
    "    if traversal_matrix:\n",
    "        return traversal_matrix[row][col]\n",
    "    else:\n",
    "        return -1"
   ]
  },
  {
   "cell_type": "code",
   "execution_count": 2,
   "metadata": {},
   "outputs": [],
   "source": [
    "cost_matrix = [[1, 2, 3],\n",
    "                [4, 8, 2],\n",
    "                [1, 5, 3]]\n",
    "traversal_matrix = _init_traversal_matrix(cost_matrix)"
   ]
  },
  {
   "cell_type": "code",
   "execution_count": 3,
   "metadata": {},
   "outputs": [
    {
     "name": "stdout",
     "output_type": "stream",
     "text": [
      "[[1, 3, 5], [7, 9, 5], [1, 6, 8]]\n"
     ]
    }
   ],
   "source": [
    "# print the traversal matrix\n",
    "print(traversal_matrix)"
   ]
  },
  {
   "cell_type": "code",
   "execution_count": 4,
   "metadata": {},
   "outputs": [
    {
     "data": {
      "text/plain": [
       "8"
      ]
     },
     "execution_count": 4,
     "metadata": {},
     "output_type": "execute_result"
    }
   ],
   "source": [
    "# print the min cost path\n",
    "get_min_cost_path(2,2)"
   ]
  }
 ],
 "metadata": {
  "kernelspec": {
   "display_name": "Python 3",
   "language": "python",
   "name": "python3"
  },
  "language_info": {
   "codemirror_mode": {
    "name": "ipython",
    "version": 3
   },
   "file_extension": ".py",
   "mimetype": "text/x-python",
   "name": "python",
   "nbconvert_exporter": "python",
   "pygments_lexer": "ipython3",
   "version": "3.5.3"
  }
 },
 "nbformat": 4,
 "nbformat_minor": 2
}
