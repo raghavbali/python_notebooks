{
 "cells": [
  {
   "cell_type": "markdown",
   "metadata": {},
   "source": [
    "# Coin Change Problem\n",
    "\n",
    "Given a value N, if we want to make change for N, and we have infinite supply of each of C = { C1, C2, .. , Cm} valued coins, how many ways can we make the change? The order of coins does not matter.\n",
    "\n",
    "\n",
    "Example:\n",
    "\n",
    "For N = 10 and S = {2, 5, 3, 6}, there are five solutions: {2,2,2,2,2}, {2,2,3,3}, {2,2,6}, {2,3,5} and {5,5}. \n",
    "\n",
    "Trick:\n",
    "   + Count of Solutions which contain the mth coin + Count of Solutions not containing the mth coin"
   ]
  },
  {
   "cell_type": "markdown",
   "metadata": {},
   "source": [
    "## Tabulation Method\n",
    "+ Bottom Up approach\n",
    "+ Fast Access"
   ]
  },
  {
   "cell_type": "code",
   "execution_count": 1,
   "metadata": {
    "ExecuteTime": {
     "end_time": "2020-01-20T02:24:12.665774Z",
     "start_time": "2020-01-20T02:24:12.658616Z"
    },
    "scrolled": false
   },
   "outputs": [],
   "source": [
    "# build the count matrix and return solution count\n",
    "def count_solutions(coin_list, currency_val):\n",
    "    \n",
    "    # initialize solution count table\n",
    "    count_matrix = [[1 if i==0 else 0 \\\n",
    "                     for j in range(len(coin_list))] \\\n",
    "                    for i in range(currency_val+1)]\n",
    "    \n",
    "    # iterate for all currency values\n",
    "    for ridx, row in enumerate(count_matrix[1:]):\n",
    "        for cidx, coin in enumerate(row):\n",
    "            count_including_m = 0\n",
    "            count_excluding_m = 0\n",
    "            \n",
    "            # count solutions including mth coin\n",
    "            if ridx+1 - coin_list[cidx] >= 0:\n",
    "                count_including_m = count_matrix[ridx+1 - coin_list[cidx]][cidx]\n",
    "            # count solutions excluding mth coin\n",
    "            if cidx > 0:    \n",
    "                count_excluding_m = count_matrix[ridx+1][cidx-1]\n",
    "            \n",
    "            count_matrix[ridx+1][cidx] = count_including_m + count_excluding_m\n",
    "\n",
    "    # return calculated number of solutions            \n",
    "    return count_matrix[currency_val][len(coin_list)-1]"
   ]
  },
  {
   "cell_type": "code",
   "execution_count": 2,
   "metadata": {
    "ExecuteTime": {
     "end_time": "2020-01-20T02:24:12.674352Z",
     "start_time": "2020-01-20T02:24:12.669251Z"
    }
   },
   "outputs": [
    {
     "name": "stdout",
     "output_type": "stream",
     "text": [
      "Number of solutions for N=10 with coins=[2, 5, 3, 6] = 5\n",
      "Number of solutions for N=4 with coins=[1, 2, 3] = 4\n"
     ]
    }
   ],
   "source": [
    "coin_list1= [2, 5, 3, 6]\n",
    "currency_val1 = 10\n",
    "print(\"Number of solutions for N={} with coins={} = {}\".format(currency_val1,\n",
    "                                                             coin_list1,\n",
    "                                                             count_solutions(coin_list1,\n",
    "                                                                             currency_val1)))\n",
    "\n",
    "coin_list2= [1,2,3]\n",
    "currency_val2 = 4\n",
    "print(\"Number of solutions for N={} with coins={} = {}\".format(currency_val2,\n",
    "                                                             coin_list2,\n",
    "                                                             count_solutions(coin_list2,\n",
    "                                                                             currency_val2)))"
   ]
  },
  {
   "cell_type": "markdown",
   "metadata": {},
   "source": [
    "## Approach 2"
   ]
  },
  {
   "cell_type": "code",
   "execution_count": 3,
   "metadata": {
    "ExecuteTime": {
     "end_time": "2020-01-20T02:24:12.688364Z",
     "start_time": "2020-01-20T02:24:12.682237Z"
    }
   },
   "outputs": [],
   "source": [
    "def count_solutions_recursive(pos,currency_sum,coin_list=[]):\n",
    "    if pos == len(coin_list):\n",
    "        return 0\n",
    "    if currency_sum ==0:\n",
    "        return 1\n",
    "    if currency_sum < coin_list[pos]:\n",
    "        return 0\n",
    "    \n",
    "    return count_solutions_recursive(pos+1,currency_sum,coin_list) + \\\n",
    "           count_solutions_recursive(pos,currency_sum-coin_list[pos],coin_list)"
   ]
  },
  {
   "cell_type": "code",
   "execution_count": 4,
   "metadata": {
    "ExecuteTime": {
     "end_time": "2020-01-20T02:24:12.704765Z",
     "start_time": "2020-01-20T02:24:12.691833Z"
    }
   },
   "outputs": [
    {
     "data": {
      "text/plain": [
       "5"
      ]
     },
     "execution_count": 4,
     "metadata": {},
     "output_type": "execute_result"
    }
   ],
   "source": [
    "coin_list = [2,3,5,6]\n",
    "currency_sum = 10\n",
    "count_solutions_recursive(0,currency_sum,coin_list)"
   ]
  },
  {
   "cell_type": "code",
   "execution_count": 5,
   "metadata": {
    "ExecuteTime": {
     "end_time": "2020-01-20T02:24:12.713162Z",
     "start_time": "2020-01-20T02:24:12.707585Z"
    }
   },
   "outputs": [
    {
     "data": {
      "text/plain": [
       "4"
      ]
     },
     "execution_count": 5,
     "metadata": {},
     "output_type": "execute_result"
    }
   ],
   "source": [
    "coin_list = [1,2,3]\n",
    "currency_sum = 4\n",
    "count_solutions_recursive(0,currency_sum,coin_list)"
   ]
  },
  {
   "cell_type": "code",
   "execution_count": 6,
   "metadata": {
    "ExecuteTime": {
     "end_time": "2020-01-20T02:24:12.723882Z",
     "start_time": "2020-01-20T02:24:12.716106Z"
    }
   },
   "outputs": [],
   "source": [
    "# Dynamic\n",
    "def count_solutions_dp(pos,currency_sum,coin_list=[]):\n",
    "    if pos == len(coin_list):\n",
    "        return 0\n",
    "    if currency_sum ==0:\n",
    "        return 1\n",
    "    if currency_sum < coin_list[pos]:\n",
    "        return 0\n",
    "    \n",
    "    if visit[pos][currency_sum]==1:\n",
    "        return dp[pos][currency_sum]\n",
    "    \n",
    "    visit[pos][currency_sum]=1\n",
    "    dp[pos][currency_sum] =  count_solutions_dp(pos+1,currency_sum,coin_list) + \\\n",
    "                               count_solutions_dp(pos,currency_sum-coin_list[pos],coin_list)\n",
    "    return dp[pos][currency_sum]"
   ]
  },
  {
   "cell_type": "code",
   "execution_count": 7,
   "metadata": {
    "ExecuteTime": {
     "end_time": "2020-01-20T02:24:12.733723Z",
     "start_time": "2020-01-20T02:24:12.729081Z"
    }
   },
   "outputs": [],
   "source": [
    "coin_list = [2,3,5,6]\n",
    "currency_sum = 10\n",
    "dp = [[0 for j in range(currency_sum+1)]for i in range(len(coin_list))]\n",
    "visit = [[0 for j in range(currency_sum+1)]for i in range(len(coin_list))]"
   ]
  },
  {
   "cell_type": "code",
   "execution_count": 8,
   "metadata": {
    "ExecuteTime": {
     "end_time": "2020-01-20T02:24:12.749081Z",
     "start_time": "2020-01-20T02:24:12.738482Z"
    }
   },
   "outputs": [
    {
     "data": {
      "text/plain": [
       "5"
      ]
     },
     "execution_count": 8,
     "metadata": {},
     "output_type": "execute_result"
    }
   ],
   "source": [
    "count_solutions_dp(0,currency_sum,coin_list)"
   ]
  },
  {
   "cell_type": "code",
   "execution_count": 9,
   "metadata": {
    "ExecuteTime": {
     "end_time": "2020-01-20T02:24:12.757801Z",
     "start_time": "2020-01-20T02:24:12.751793Z"
    }
   },
   "outputs": [
    {
     "data": {
      "text/plain": [
       "[[0, 0, 1, 0, 1, 0, 3, 0, 4, 0, 5],\n",
       " [0, 0, 0, 1, 0, 1, 2, 0, 1, 0, 1],\n",
       " [0, 0, 0, 0, 0, 1, 1, 0, 0, 0, 1],\n",
       " [0, 0, 0, 0, 0, 0, 1, 0, 0, 0, 0]]"
      ]
     },
     "execution_count": 9,
     "metadata": {},
     "output_type": "execute_result"
    }
   ],
   "source": [
    "dp"
   ]
  },
  {
   "cell_type": "code",
   "execution_count": 10,
   "metadata": {
    "ExecuteTime": {
     "end_time": "2020-01-20T02:24:12.772532Z",
     "start_time": "2020-01-20T02:24:12.763514Z"
    }
   },
   "outputs": [
    {
     "data": {
      "text/plain": [
       "[[0, 0, 1, 0, 1, 0, 1, 0, 1, 0, 1],\n",
       " [0, 0, 0, 1, 1, 1, 1, 1, 1, 0, 1],\n",
       " [0, 0, 0, 0, 0, 1, 1, 1, 1, 0, 1],\n",
       " [0, 0, 0, 0, 0, 0, 1, 1, 1, 0, 1]]"
      ]
     },
     "execution_count": 10,
     "metadata": {},
     "output_type": "execute_result"
    }
   ],
   "source": [
    "visit"
   ]
  },
  {
   "cell_type": "code",
   "execution_count": null,
   "metadata": {},
   "outputs": [],
   "source": []
  }
 ],
 "metadata": {
  "kernelspec": {
   "display_name": "Python 3",
   "language": "python",
   "name": "python3"
  },
  "language_info": {
   "codemirror_mode": {
    "name": "ipython",
    "version": 3
   },
   "file_extension": ".py",
   "mimetype": "text/x-python",
   "name": "python",
   "nbconvert_exporter": "python",
   "pygments_lexer": "ipython3",
   "version": "3.6.8"
  }
 },
 "nbformat": 4,
 "nbformat_minor": 2
}
