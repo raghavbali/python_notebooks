{
 "cells": [
  {
   "cell_type": "markdown",
   "metadata": {},
   "source": [
    "# Coin Change Problem\n",
    "\n",
    "Given a value N, if we want to make change for N, and we have infinite supply of each of C = { C1, C2, .. , Cm} valued coins, how many ways can we make the change? The order of coins does not matter.\n",
    "\n",
    "\n",
    "Example:\n",
    "\n",
    "For N = 10 and S = {2, 5, 3, 6}, there are five solutions: {2,2,2,2,2}, {2,2,3,3}, {2,2,6}, {2,3,5} and {5,5}. \n",
    "\n",
    "Trick:\n",
    "   + Count of Solutions which contain the mth coin + Count of Solutions not containing the mth coin"
   ]
  },
  {
   "cell_type": "markdown",
   "metadata": {},
   "source": [
    "## Tabulation Method\n",
    "+ Bottom Up approach\n",
    "+ Fast Access"
   ]
  },
  {
   "cell_type": "code",
   "execution_count": 1,
   "metadata": {
    "collapsed": true,
    "scrolled": false
   },
   "outputs": [],
   "source": [
    "# build the count matrix and return solution count\n",
    "def count_solutions(coin_list, currency_val):\n",
    "    \n",
    "    # initialize solution count table\n",
    "    count_matrix = [[1 if i==0 else 0 \\\n",
    "                     for j in range(len(coin_list))] \\\n",
    "                    for i in range(currency_val+1)]\n",
    "    \n",
    "    # iterate for all currency values\n",
    "    for ridx, row in enumerate(count_matrix[1:]):\n",
    "        for cidx, coin in enumerate(row):\n",
    "            count_including_m = 0\n",
    "            count_excluding_m = 0\n",
    "            \n",
    "            # count solutions including mth coin\n",
    "            if ridx+1 - coin_list[cidx] >= 0:\n",
    "                count_including_m = count_matrix[ridx+1 - coin_list[cidx]][cidx]\n",
    "            # count solutions excluding mth coin\n",
    "            if cidx > 0:    \n",
    "                count_excluding_m = count_matrix[ridx+1][cidx-1]\n",
    "            \n",
    "            count_matrix[ridx+1][cidx] = count_including_m + count_excluding_m\n",
    "\n",
    "    # return calculated number of solutions            \n",
    "    return count_matrix[currency_val][len(coin_list)-1]"
   ]
  },
  {
   "cell_type": "code",
   "execution_count": 2,
   "metadata": {},
   "outputs": [
    {
     "name": "stdout",
     "output_type": "stream",
     "text": [
      "Number of solutions for N=10 with coins=[2, 5, 3, 6] = 5\n",
      "Number of solutions for N=4 with coins=[1, 2, 3] = 4\n"
     ]
    }
   ],
   "source": [
    "coin_list1= [2, 5, 3, 6]\n",
    "currency_val1 = 10\n",
    "print(\"Number of solutions for N={} with coins={} = {}\".format(currency_val1,\n",
    "                                                             coin_list1,\n",
    "                                                             count_solutions(coin_list1,\n",
    "                                                                             currency_val1)))\n",
    "\n",
    "coin_list2= [1,2,3]\n",
    "currency_val2 = 4\n",
    "print(\"Number of solutions for N={} with coins={} = {}\".format(currency_val2,\n",
    "                                                             coin_list2,\n",
    "                                                             count_solutions(coin_list2,\n",
    "                                                                             currency_val2)))"
   ]
  }
 ],
 "metadata": {
  "kernelspec": {
   "display_name": "Python 3",
   "language": "python",
   "name": "python3"
  },
  "language_info": {
   "codemirror_mode": {
    "name": "ipython",
    "version": 3
   },
   "file_extension": ".py",
   "mimetype": "text/x-python",
   "name": "python",
   "nbconvert_exporter": "python",
   "pygments_lexer": "ipython3",
   "version": "3.5.3"
  }
 },
 "nbformat": 4,
 "nbformat_minor": 2
}
