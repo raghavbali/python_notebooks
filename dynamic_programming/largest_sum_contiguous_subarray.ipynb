{
 "cells": [
  {
   "cell_type": "markdown",
   "metadata": {},
   "source": [
    "# Largest Sum Contiguous Subarray\n",
    "\n",
    "The maximum subarray problem is the task of finding the contiguous subarray within a one-dimensional array of numbers which has the largest sum.\n",
    "Ex: for array [−2, 1, −3, 4, −1, 2, 1, −5, 4] the largest sum contiguous subarray is 4, −1, 2, 1 with sum as 6\n",
    "\n",
    "Trick is to apply Kadane's solution:\n",
    "   + Initialize:\n",
    "        + max_so_far = 0\n",
    "        + max_ending_here = 0\n",
    "   + Loop for each element of the array\n",
    "       + (a) max_ending_here = max_ending_here + a[i]\n",
    "       + (b) if(max_ending_here < 0) then max_ending_here = 0\n",
    "       + (c) if(max_so_far < max_ending_here) then max_so_far = max_ending_here\n",
    "   + return max_so_far"
   ]
  },
  {
   "cell_type": "markdown",
   "metadata": {},
   "source": [
    "## Tabulation Method\n",
    "+ Bottom up approach\n",
    "+ Fills all values before doing lookup\n",
    "+ Fast lookup"
   ]
  },
  {
   "cell_type": "code",
   "execution_count": 1,
   "metadata": {
    "collapsed": true,
    "scrolled": false
   },
   "outputs": [],
   "source": [
    "# returns the lcsa and indices for the sub-array\n",
    "def lcsa(input_arr = []):\n",
    "    # max sum \n",
    "    max_so_far = -10000\n",
    "    curr_max = 0\n",
    "    \n",
    "    # indices\n",
    "    start_idx = end_idx = temp_idx = 0\n",
    "    \n",
    "    for idx,element in enumerate(input_arr):\n",
    "        curr_max = curr_max + element\n",
    "        \n",
    "        if max_so_far < curr_max:\n",
    "            max_so_far = curr_max\n",
    "            end_idx = idx + 1\n",
    "            start_idx = temp_idx\n",
    "        \n",
    "        if curr_max < 0:\n",
    "            curr_max = 0\n",
    "            temp_idx = idx + 1\n",
    "            \n",
    "    return max_so_far,start_idx,end_idx"
   ]
  },
  {
   "cell_type": "code",
   "execution_count": 2,
   "metadata": {},
   "outputs": [
    {
     "name": "stdout",
     "output_type": "stream",
     "text": [
      "LCSA for [-2, 1, -3, 4, -1, 2, 1, -5, 4] = 6 [4, -1, 2, 1]\n",
      "LCSA for [-13, -3, -25, -20, -3, -16, -23, -12, -5, -22, -15, -4, -7] = -3 [-3]\n",
      "LCSA for [-2, -3, 4, -1, -2, 1, 5, -3] = 7 [4, -1, -2, 1, 5]\n"
     ]
    }
   ],
   "source": [
    "array1 = [-2,1,-3, 4, -1, 2, 1, -5, 4]\n",
    "sum_lcsa,s,e = lcsa(input_arr=array1)\n",
    "print(\"LCSA for {} = {} {}\".format(array1,sum_lcsa,array1[s:e]))\n",
    "\n",
    "array2 = [-13, -3, -25, -20, -3, -16, -23, -12, -5, -22, -15, -4, -7]\n",
    "sum_lcsa,s,e = lcsa(input_arr=array2)\n",
    "print(\"LCSA for {} = {} {}\".format(array2,sum_lcsa,array2[s:e]))\n",
    "\n",
    "array3 = [-2, -3, 4, -1, -2, 1, 5, -3]\n",
    "sum_lcsa,s,e = lcsa(input_arr=array3)\n",
    "print(\"LCSA for {} = {} {}\".format(array3,sum_lcsa,array3[s:e]))"
   ]
  }
 ],
 "metadata": {
  "kernelspec": {
   "display_name": "Python 3",
   "language": "python",
   "name": "python3"
  },
  "language_info": {
   "codemirror_mode": {
    "name": "ipython",
    "version": 3
   },
   "file_extension": ".py",
   "mimetype": "text/x-python",
   "name": "python",
   "nbconvert_exporter": "python",
   "pygments_lexer": "ipython3",
   "version": "3.5.3"
  }
 },
 "nbformat": 4,
 "nbformat_minor": 2
}
