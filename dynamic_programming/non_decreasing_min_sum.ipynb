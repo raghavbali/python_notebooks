{
 "cells": [
  {
   "cell_type": "markdown",
   "metadata": {},
   "source": [
    "# Non-decreasing subsequence of size k with Minimum Sum\n",
    "\n",
    "Given a sequence of n integers, find the non-decreasing subsequence of length k with minimum sum. If no sequence exists output -1.\n",
    "Ex: for array [58 12 11 12 82 30 20 77 16 86], for k=3, minimum sum is $11 + 12 + 16 = 39$\n",
    "\n",
    "Trick:\n",
    "   + minimum of:\n",
    "       + f(a[i],k-1) + a[j] \n",
    "       + f(a[i],k)\n",
    "   + Along with the constraint of sequence being non-decreasing, i.e. a[i] <= a[j] for all 0 <= i <= j"
   ]
  },
  {
   "cell_type": "markdown",
   "metadata": {},
   "source": [
    "## Memoization Method\n",
    "+ Top Down approach\n",
    "+ Compute only what is required"
   ]
  },
  {
   "cell_type": "code",
   "execution_count": 31,
   "metadata": {
    "scrolled": false
   },
   "outputs": [],
   "source": [
    "dyn_min_sum = [[-1 for j in range(10)] for i in range(10)]\n",
    "def dynamic_function(arr,k):\n",
    "    curr_index = len(arr)-1\n",
    "    if curr_index >=0 and k==1:\n",
    "        return min(arr)\n",
    "    \n",
    "    if curr_index >=0 and dyn_min_sum[curr_index][k] != -1:\n",
    "        return dyn_min_sum[curr_index][k]\n",
    "    \n",
    "    min_sum = 1000**3\n",
    "    for i in range(curr_index):\n",
    "        if arr[i] <= arr[curr_index]:\n",
    "            min_sum = min(dynamic_function(arr[:i+1],k-1) + arr[curr_index], dynamic_function(arr[:i+1],k))\n",
    "    dyn_min_sum[curr_index][k] = min_sum\n",
    "    return dyn_min_sum[curr_index][k]"
   ]
  },
  {
   "cell_type": "code",
   "execution_count": 33,
   "metadata": {},
   "outputs": [
    {
     "data": {
      "text/plain": [
       "125"
      ]
     },
     "execution_count": 33,
     "metadata": {},
     "output_type": "execute_result"
    }
   ],
   "source": [
    "a = [58, 12, 11, 12, 82, 30, 20, 77, 16, 86]   \n",
    "dynamic_function(a,4)"
   ]
  }
 ],
 "metadata": {
  "kernelspec": {
   "display_name": "Python 3",
   "language": "python",
   "name": "python3"
  },
  "language_info": {
   "codemirror_mode": {
    "name": "ipython",
    "version": 3
   },
   "file_extension": ".py",
   "mimetype": "text/x-python",
   "name": "python",
   "nbconvert_exporter": "python",
   "pygments_lexer": "ipython3",
   "version": "3.5.3"
  }
 },
 "nbformat": 4,
 "nbformat_minor": 2
}
