{
 "cells": [
  {
   "cell_type": "markdown",
   "metadata": {},
   "source": [
    "# Binomial Coefficient\n",
    "\n",
    "Return the binomial coefficient for kth term in the expansion for $(1+X)^n$ given k and n.\n",
    "\n",
    "Trick:\n",
    "   + C(n,k) = C(n-1,k-1) + C(n-1,k)\n",
    "   + C(n,n) = C(n,0) = 1"
   ]
  },
  {
   "cell_type": "markdown",
   "metadata": {},
   "source": [
    "## Tabulation Method\n",
    "+ Bottom up approach\n",
    "+ Fills all values before doing lookup\n",
    "+ Fast lookup"
   ]
  },
  {
   "cell_type": "code",
   "execution_count": 1,
   "metadata": {},
   "outputs": [],
   "source": [
    "# initialize the binomial coefficients by building in bottom-up fashion\n",
    "def _init_binom_coef_tab(n=5):\n",
    "    n = n + 1\n",
    "    binom_coef_matrix = [[0 for x in range(n)] for y in range(n)] \n",
    "    \n",
    "    \n",
    "    for i in range(0,n):\n",
    "        for j in range(0,n):\n",
    "            if j == 0:\n",
    "                    binom_coef_matrix[i][j] = 1\n",
    "            else:\n",
    "                binom_coef_matrix[i][j] = binom_coef_matrix[i-1][j-1] + binom_coef_matrix[i-1][j]\n",
    "    \n",
    "    return binom_coef_matrix\n",
    "\n",
    "# returns the C(n,k) binomial coefficient\n",
    "def binom_tabulate(n,k,binom_coef_matrix=None):\n",
    "    if binom_coef_matrix and (n <= (len(binom_coef_matrix) - 1)) and (k <= (len(binom_coef_matrix[n]) - 1)):\n",
    "        return binom_coef_matrix[n][k]\n",
    "    else:\n",
    "        return _init_binom_coef_tab(n)[n][k]\n",
    "\n",
    "    \n",
    "binom_coef_matrix_tb = _init_binom_coef_tab(6)"
   ]
  },
  {
   "cell_type": "code",
   "execution_count": 2,
   "metadata": {},
   "outputs": [
    {
     "name": "stdout",
     "output_type": "stream",
     "text": [
      "binom_tabulate(2,1) = 2\n",
      "binom_tabulate(4,2) = 6\n",
      "binom_tabulate(5,2) = 10\n"
     ]
    }
   ],
   "source": [
    "print(\"binom_tabulate(2,1) = {}\".format(binom_tabulate(2,1,binom_coef_matrix=binom_coef_matrix_tb)))\n",
    "\n",
    "print(\"binom_tabulate(4,2) = {}\".format(binom_tabulate(4,2,binom_coef_matrix=binom_coef_matrix_tb)))\n",
    "\n",
    "print(\"binom_tabulate(5,2) = {}\".format(binom_tabulate(5,2,binom_coef_matrix=binom_coef_matrix_tb)))"
   ]
  },
  {
   "cell_type": "markdown",
   "metadata": {},
   "source": [
    "## Memoization Method\n",
    "+ Top down approach\n",
    "+ Fills up lookup table only for values required\n",
    "+ More space efficient/sparse solution"
   ]
  },
  {
   "cell_type": "code",
   "execution_count": 3,
   "metadata": {},
   "outputs": [],
   "source": [
    "n = 10\n",
    "binom_coef_matrix_mem = [[1 if x==0 else 0 for x in range(n)] for y in range(n)] \n",
    "\n",
    "# returns the C(n,k) coefficient using memoization\n",
    "# memoized table builds values only when required\n",
    "def binom_memoize(n,k,binom_coef_matrix = binom_coef_matrix_mem):\n",
    "    if n > len(binom_coef_matrix)-1:\n",
    "        return -1\n",
    "    \n",
    "    if 0 != binom_coef_matrix[n][k]:\n",
    "        return binom_coef_matrix[n][k]\n",
    "    elif n == k or k == 0:\n",
    "        return binom_coef_matrix[n][0]\n",
    "    else:\n",
    "        binom_coef_matrix[n][k] = binom_memoize(n-1,k-1,binom_coef_matrix) + binom_memoize(n-1,k,binom_coef_matrix)\n",
    "        return binom_coef_matrix[n][k]"
   ]
  },
  {
   "cell_type": "code",
   "execution_count": 4,
   "metadata": {},
   "outputs": [
    {
     "name": "stdout",
     "output_type": "stream",
     "text": [
      "binom_memoize(2,1) = 2\n",
      "binom_memoize(2,2) = 6\n",
      "binom_memoize(7,5) = 21\n"
     ]
    }
   ],
   "source": [
    "print(\"binom_memoize(2,1) = {}\".format(binom_memoize(2,1,binom_coef_matrix=binom_coef_matrix_mem)))\n",
    "\n",
    "print(\"binom_memoize(2,2) = {}\".format(binom_memoize(4,2,binom_coef_matrix=binom_coef_matrix_mem)))\n",
    "\n",
    "print(\"binom_memoize(7,5) = {}\".format(binom_memoize(7,5,binom_coef_matrix=binom_coef_matrix_mem)))"
   ]
  }
 ],
 "metadata": {
  "kernelspec": {
   "display_name": "Python 3",
   "language": "python",
   "name": "python3"
  },
  "language_info": {
   "codemirror_mode": {
    "name": "ipython",
    "version": 3
   },
   "file_extension": ".py",
   "mimetype": "text/x-python",
   "name": "python",
   "nbconvert_exporter": "python",
   "pygments_lexer": "ipython3",
   "version": "3.5.3"
  }
 },
 "nbformat": 4,
 "nbformat_minor": 2
}
