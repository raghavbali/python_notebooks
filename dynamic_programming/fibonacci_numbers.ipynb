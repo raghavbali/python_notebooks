{
 "cells": [
  {
   "cell_type": "markdown",
   "metadata": {},
   "source": [
    "# Fibonacci Numbers\n",
    "\n",
    "Return the fibonacci number given a sequence number using dynamic programming."
   ]
  },
  {
   "cell_type": "markdown",
   "metadata": {},
   "source": [
    "## Tabulation Method\n",
    "+ Bottom up approach\n",
    "+ Fills all values before doing lookup\n",
    "+ Fast lookup"
   ]
  },
  {
   "cell_type": "code",
   "execution_count": 1,
   "metadata": {
    "collapsed": true
   },
   "outputs": [],
   "source": [
    "# initialize the fibonacci sequence by building in bottom-up fashion\n",
    "def _init_fib_tab(n=100):\n",
    "    fib_list = [1]*n\n",
    "    fib_list[0] = fib_list[1] = 1\n",
    "    \n",
    "    for i in range(2,n):\n",
    "        fib_list[i] = fib_list[i-1] + fib_list[i-2]\n",
    "    \n",
    "    return fib_list\n",
    "\n",
    "# returns the nth fibonacci number\n",
    "def fibonacci_tabulate(n,fib_list=None):\n",
    "    if fib_list and (n <= (len(fib_list) - 1)):\n",
    "        return fib_list[n-1]\n",
    "    else:\n",
    "        return _init_fib_tab(n)[n-1]\n",
    "\n",
    "    \n",
    "fib_list_tab = _init_fib_tab(1000)"
   ]
  },
  {
   "cell_type": "code",
   "execution_count": 2,
   "metadata": {
    "collapsed": false
   },
   "outputs": [
    {
     "name": "stdout",
     "output_type": "stream",
     "text": [
      "fibonacci_tabulate(10) = 55\n",
      "fibonacci_tabulate(6) = 8\n",
      "fibonacci_tabulate(100) = 354224848179261915075\n"
     ]
    }
   ],
   "source": [
    "print(\"fibonacci_tabulate(10) = {}\".format(fibonacci_tabulate(10,\n",
    "                                                              fib_list=fib_list_tab)))\n",
    "\n",
    "print(\"fibonacci_tabulate(6) = {}\".format(fibonacci_tabulate(6,\n",
    "                                                             fib_list=fib_list_tab)))\n",
    "\n",
    "print(\"fibonacci_tabulate(100) = {}\".format(fibonacci_tabulate(100,\n",
    "                                                               fib_list=fib_list_tab)))"
   ]
  },
  {
   "cell_type": "markdown",
   "metadata": {},
   "source": [
    "## Memoization Method\n",
    "+ Top down approach\n",
    "+ Fills up lookup table only for values required\n",
    "+ More space efficient/sparse solution"
   ]
  },
  {
   "cell_type": "code",
   "execution_count": 3,
   "metadata": {
    "collapsed": true
   },
   "outputs": [],
   "source": [
    "fib_list_mem = [0]*1000\n",
    "fib_list_mem[0] = fib_list_mem[1] = 1\n",
    "\n",
    "# returns the nth fibonacci sequence using memoization\n",
    "# memoized table builds values only when required\n",
    "def fibonacci_memoize(n,fib_list = fib_list_mem):\n",
    "    if n > len(fib_list)-1:\n",
    "        return -1\n",
    "    \n",
    "    if 0 != fib_list[n-1]:\n",
    "        return fib_list[n-1]\n",
    "    elif n <= 1:\n",
    "        return fib_list[1]\n",
    "    else:\n",
    "        fib_list[n-1] = fibonacci_memoize(n-1,fib_list=fib_list) + fibonacci_memoize(n-2,fib_list=fib_list)\n",
    "        return fib_list[n-1]"
   ]
  },
  {
   "cell_type": "code",
   "execution_count": 4,
   "metadata": {
    "collapsed": false
   },
   "outputs": [
    {
     "name": "stdout",
     "output_type": "stream",
     "text": [
      "fibonacci_memoize(10) = 55\n",
      "fibonacci_memoize(6) = 8\n",
      "fibonacci_memoize(100) = 354224848179261915075\n"
     ]
    }
   ],
   "source": [
    "print(\"fibonacci_memoize(10) = {}\".format(fibonacci_memoize(10)))\n",
    "\n",
    "print(\"fibonacci_memoize(6) = {}\".format(fibonacci_memoize(6)))\n",
    "\n",
    "print(\"fibonacci_memoize(100) = {}\".format(fibonacci_memoize(100)))"
   ]
  }
 ],
 "metadata": {
  "kernelspec": {
   "display_name": "Python 3",
   "language": "python",
   "name": "python3"
  },
  "language_info": {
   "codemirror_mode": {
    "name": "ipython",
    "version": 3
   },
   "file_extension": ".py",
   "mimetype": "text/x-python",
   "name": "python",
   "nbconvert_exporter": "python",
   "pygments_lexer": "ipython3",
   "version": "3.5.2"
  }
 },
 "nbformat": 4,
 "nbformat_minor": 2
}
