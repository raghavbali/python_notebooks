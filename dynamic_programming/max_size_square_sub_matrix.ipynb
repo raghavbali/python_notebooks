{
 "cells": [
  {
   "cell_type": "markdown",
   "metadata": {},
   "source": [
    "# Maximum Size Square Sub-Matrix \n",
    "\n",
    "Given a binary matrix, find out the maximum size square sub-matrix with all 1s.\n",
    "Example:\n",
    "\n",
    "Given the following square matrix, the maximum size square sub matrix would be of size 3.\n",
    "\n",
    "0, 1, 1, 0, 1\n",
    "\n",
    "1, 1, 0, 1, 0 \n",
    "\n",
    "0, 1, 1, 1, 0\n",
    "\n",
    "1, 1, 1, 1, 0\n",
    "\n",
    "1, 1, 1, 1, 1\n",
    "\n",
    "0, 0, 0, 0, 0\n",
    "\n",
    "Trick:\n",
    "   + Construct a matrix S of size(M) where M is the input matrix\n",
    "   + Copy the First row and First Column as is from M\n",
    "   + Traverse through each element as:\n",
    "       + If M[i][j] == 1 then\n",
    "           + S[i][j] = mini(S[i][j-1],S[i-1,j],S[i-1,j-1]) + 1\n",
    "   + return the max value in S "
   ]
  },
  {
   "cell_type": "markdown",
   "metadata": {},
   "source": [
    "## Tabulation Method\n",
    "+ Bottom Up approach\n",
    "+ Fast Access"
   ]
  },
  {
   "cell_type": "code",
   "execution_count": 7,
   "metadata": {
    "collapsed": false,
    "scrolled": false
   },
   "outputs": [],
   "source": [
    "import numpy as np\n",
    "\n",
    "# build the size matrix\n",
    "def _init_size_matrix(input_matrix):\n",
    "    # initialize the size matrix's first row and column\n",
    "    size_matrix = [[element if (cidx==0 or ridx==0) else 0 \n",
    "                        for cidx,element in enumerate(row) ] \n",
    "                           for ridx,row in enumerate(input_matrix)]\n",
    "    \n",
    "    # iterate through input matrix to build size matrix\n",
    "    for ridx,row in enumerate([i[1:] for i in size_matrix[1:]]):\n",
    "        for cidx,col in enumerate(row):\n",
    "            if input_matrix[ridx+1][cidx+1] == 1:\n",
    "                size_matrix[ridx+1][cidx+1] = min(size_matrix[ridx+1][cidx],\n",
    "                                             size_matrix[ridx][cidx+1],\n",
    "                                             size_matrix[ridx][cidx]) + 1                               \n",
    "    return size_matrix\n",
    "\n",
    "# print the maximum size sub array\n",
    "def max_sub_array(input_matrix,size_matrix):\n",
    "    \n",
    "    # get max row and column\n",
    "    max_row = np.where(size_matrix == np.array(size_matrix).max())[0][0] + 1\n",
    "    max_col = np.where(size_matrix == np.array(size_matrix).max())[1][0] + 1\n",
    "    \n",
    "    max_size = max(max(size_matrix))\n",
    "    \n",
    "    \n",
    "    for row in input_matrix[max_row-max_size:max_row]:\n",
    "        print(row[max_col-max_size:max_col])    "
   ]
  },
  {
   "cell_type": "code",
   "execution_count": 9,
   "metadata": {
    "collapsed": false
   },
   "outputs": [
    {
     "data": {
      "text/plain": [
       "[[1, 0, 1, 0], [1, 1, 1, 0], [1, 2, 2, 1], [2, 2, 3, 2], [0, 0, 0, 0]]"
      ]
     },
     "execution_count": 9,
     "metadata": {},
     "output_type": "execute_result"
    }
   ],
   "source": [
    "[i[1:] for i in size_matrix[1:]]"
   ]
  },
  {
   "cell_type": "code",
   "execution_count": 10,
   "metadata": {
    "collapsed": false
   },
   "outputs": [
    {
     "data": {
      "text/plain": [
       "[[1, 1, 0, 1, 0],\n",
       " [0, 1, 1, 1, 0],\n",
       " [1, 1, 2, 2, 1],\n",
       " [1, 2, 2, 3, 2],\n",
       " [0, 0, 0, 0, 0]]"
      ]
     },
     "execution_count": 10,
     "metadata": {},
     "output_type": "execute_result"
    }
   ],
   "source": [
    "size_matrix[1:]"
   ]
  },
  {
   "cell_type": "code",
   "execution_count": 8,
   "metadata": {
    "collapsed": false
   },
   "outputs": [
    {
     "ename": "IndexError",
     "evalue": "list index out of range",
     "output_type": "error",
     "traceback": [
      "\u001b[0;31m---------------------------------------------------------------------------\u001b[0m",
      "\u001b[0;31mIndexError\u001b[0m                                Traceback (most recent call last)",
      "\u001b[0;32m<ipython-input-8-d2831bd6bdf3>\u001b[0m in \u001b[0;36m<module>\u001b[0;34m()\u001b[0m\n\u001b[1;32m      5\u001b[0m                 \u001b[1;33m[\u001b[0m\u001b[1;36m1\u001b[0m\u001b[1;33m,\u001b[0m \u001b[1;36m1\u001b[0m\u001b[1;33m,\u001b[0m \u001b[1;36m1\u001b[0m\u001b[1;33m,\u001b[0m \u001b[1;36m1\u001b[0m\u001b[1;33m,\u001b[0m \u001b[1;36m1\u001b[0m\u001b[1;33m]\u001b[0m\u001b[1;33m,\u001b[0m\u001b[1;33m\u001b[0m\u001b[0m\n\u001b[1;32m      6\u001b[0m                 [0, 0, 0, 0, 0]]\n\u001b[0;32m----> 7\u001b[0;31m \u001b[0msize_matrix\u001b[0m \u001b[1;33m=\u001b[0m \u001b[0m_init_size_matrix\u001b[0m\u001b[1;33m(\u001b[0m\u001b[0minput_matrix\u001b[0m\u001b[1;33m)\u001b[0m\u001b[1;33m\u001b[0m\u001b[0m\n\u001b[0m",
      "\u001b[0;32m<ipython-input-7-cd2baff17bcb>\u001b[0m in \u001b[0;36m_init_size_matrix\u001b[0;34m(input_matrix)\u001b[0m\n\u001b[1;32m     11\u001b[0m     \u001b[1;32mfor\u001b[0m \u001b[0mridx\u001b[0m\u001b[1;33m,\u001b[0m\u001b[0mrow\u001b[0m \u001b[1;32min\u001b[0m \u001b[0menumerate\u001b[0m\u001b[1;33m(\u001b[0m\u001b[0msize_matrix\u001b[0m\u001b[1;33m[\u001b[0m\u001b[1;36m1\u001b[0m\u001b[1;33m:\u001b[0m\u001b[1;33m]\u001b[0m\u001b[1;33m)\u001b[0m\u001b[1;33m:\u001b[0m\u001b[1;33m\u001b[0m\u001b[0m\n\u001b[1;32m     12\u001b[0m         \u001b[1;32mfor\u001b[0m \u001b[0mcidx\u001b[0m\u001b[1;33m,\u001b[0m\u001b[0mcol\u001b[0m \u001b[1;32min\u001b[0m \u001b[0menumerate\u001b[0m\u001b[1;33m(\u001b[0m\u001b[0mrow\u001b[0m\u001b[1;33m)\u001b[0m\u001b[1;33m:\u001b[0m\u001b[1;33m\u001b[0m\u001b[0m\n\u001b[0;32m---> 13\u001b[0;31m             \u001b[1;32mif\u001b[0m \u001b[0minput_matrix\u001b[0m\u001b[1;33m[\u001b[0m\u001b[0mridx\u001b[0m\u001b[1;33m+\u001b[0m\u001b[1;36m1\u001b[0m\u001b[1;33m]\u001b[0m\u001b[1;33m[\u001b[0m\u001b[0mcidx\u001b[0m\u001b[1;33m+\u001b[0m\u001b[1;36m1\u001b[0m\u001b[1;33m]\u001b[0m \u001b[1;33m==\u001b[0m \u001b[1;36m1\u001b[0m\u001b[1;33m:\u001b[0m\u001b[1;33m\u001b[0m\u001b[0m\n\u001b[0m\u001b[1;32m     14\u001b[0m                 size_matrix[ridx+1][cidx+1] = min(size_matrix[ridx+1][cidx],\n\u001b[1;32m     15\u001b[0m                                              \u001b[0msize_matrix\u001b[0m\u001b[1;33m[\u001b[0m\u001b[0mridx\u001b[0m\u001b[1;33m]\u001b[0m\u001b[1;33m[\u001b[0m\u001b[0mcidx\u001b[0m\u001b[1;33m+\u001b[0m\u001b[1;36m1\u001b[0m\u001b[1;33m]\u001b[0m\u001b[1;33m,\u001b[0m\u001b[1;33m\u001b[0m\u001b[0m\n",
      "\u001b[0;31mIndexError\u001b[0m: list index out of range"
     ]
    }
   ],
   "source": [
    "input_matrix = [[0, 1, 1, 0, 1], \n",
    "                [1, 1, 0, 1, 0], \n",
    "                [0, 1, 1, 1, 0],\n",
    "                [1, 1, 1, 1, 1],\n",
    "                [1, 1, 1, 1, 1],\n",
    "                [0, 0, 0, 0, 0]]\n",
    "size_matrix = _init_size_matrix(input_matrix)"
   ]
  },
  {
   "cell_type": "code",
   "execution_count": 3,
   "metadata": {
    "collapsed": false
   },
   "outputs": [
    {
     "data": {
      "text/plain": [
       "[[0, 1, 1, 0, 1],\n",
       " [1, 1, 0, 1, 0],\n",
       " [0, 1, 1, 1, 0],\n",
       " [1, 1, 2, 2, 1],\n",
       " [1, 2, 2, 3, 2],\n",
       " [0, 0, 0, 0, 0]]"
      ]
     },
     "execution_count": 3,
     "metadata": {},
     "output_type": "execute_result"
    }
   ],
   "source": [
    "# print the size matrix\n",
    "size_matrix"
   ]
  },
  {
   "cell_type": "code",
   "execution_count": 4,
   "metadata": {
    "collapsed": false
   },
   "outputs": [
    {
     "name": "stdout",
     "output_type": "stream",
     "text": [
      "[1, 1, 1]\n",
      "[1, 1, 1]\n",
      "[1, 1, 1]\n"
     ]
    }
   ],
   "source": [
    "# print the max size sub array\n",
    "max_sub_array(input_matrix,size_matrix)"
   ]
  }
 ],
 "metadata": {
  "kernelspec": {
   "display_name": "Python 3",
   "language": "python",
   "name": "python3"
  },
  "language_info": {
   "codemirror_mode": {
    "name": "ipython",
    "version": 3
   },
   "file_extension": ".py",
   "mimetype": "text/x-python",
   "name": "python",
   "nbconvert_exporter": "python",
   "pygments_lexer": "ipython3",
   "version": "3.5.2"
  }
 },
 "nbformat": 4,
 "nbformat_minor": 2
}
