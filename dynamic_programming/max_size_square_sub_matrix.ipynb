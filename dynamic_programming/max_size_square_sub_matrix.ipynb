{
 "cells": [
  {
   "cell_type": "markdown",
   "metadata": {},
   "source": [
    "# Maximum Size Square Sub-Matrix \n",
    "\n",
    "Given a binary matrix, find out the maximum size square sub-matrix with all 1s.\n",
    "Example:\n",
    "\n",
    "Given the following square matrix, the maximum size square sub matrix would be of size 3.\n",
    "\n",
    "0, 1, 1, 0, 1\n",
    "\n",
    "1, 1, 0, 1, 0 \n",
    "\n",
    "0, 1, 1, 1, 0\n",
    "\n",
    "1, 1, 1, 1, 0\n",
    "\n",
    "1, 1, 1, 1, 1\n",
    "\n",
    "0, 0, 0, 0, 0\n",
    "\n",
    "Trick:\n",
    "   + Construct a matrix S of size(M) where M is the input matrix\n",
    "   + Copy the First row and First Column as is from M\n",
    "   + Traverse through each element as:\n",
    "       + If M[i][j] == 1 then\n",
    "           + S[i][j] = mini(S[i][j-1],S[i-1,j],S[i-1,j-1]) + 1\n",
    "   + return the max value in S "
   ]
  },
  {
   "cell_type": "markdown",
   "metadata": {},
   "source": [
    "## Tabulation Method\n",
    "+ Bottom Up approach\n",
    "+ Fast Access"
   ]
  },
  {
   "cell_type": "code",
   "execution_count": 1,
   "metadata": {
    "scrolled": false
   },
   "outputs": [],
   "source": [
    "import numpy as np\n",
    "\n",
    "# build the size matrix\n",
    "def _init_size_matrix(input_matrix):\n",
    "    # initialize the size matrix's first row and column\n",
    "    size_matrix = [[element if (cidx==0 or ridx==0) else 0 \n",
    "                        for cidx,element in enumerate(row) ] \n",
    "                           for ridx,row in enumerate(input_matrix)]\n",
    "    \n",
    "    # iterate through input matrix to build size matrix\n",
    "    # from second row second column onwards\n",
    "    for ridx,row in enumerate([i[1:] for i in size_matrix[1:]]):\n",
    "        for cidx,col in enumerate(row):\n",
    "            if input_matrix[ridx+1][cidx+1] == 1:\n",
    "                size_matrix[ridx+1][cidx+1] = min(size_matrix[ridx+1][cidx],\n",
    "                                             size_matrix[ridx][cidx+1],\n",
    "                                             size_matrix[ridx][cidx]) + 1                               \n",
    "    return size_matrix\n",
    "\n",
    "# print the maximum size sub array\n",
    "def max_sub_array(input_matrix,size_matrix):\n",
    "    \n",
    "    # get max row and column\n",
    "    max_row = np.where(size_matrix == np.array(size_matrix).max())[0][0] + 1\n",
    "    max_col = np.where(size_matrix == np.array(size_matrix).max())[1][0] + 1\n",
    "    \n",
    "    max_size = max(max(size_matrix))\n",
    "    \n",
    "    \n",
    "    for row in input_matrix[max_row-max_size:max_row]:\n",
    "        print(row[max_col-max_size:max_col])    "
   ]
  },
  {
   "cell_type": "code",
   "execution_count": 2,
   "metadata": {},
   "outputs": [],
   "source": [
    "input_matrix = [[0, 1, 1, 0, 1], \n",
    "                [1, 1, 0, 1, 0], \n",
    "                [0, 1, 1, 1, 0],\n",
    "                [1, 1, 1, 1, 1],\n",
    "                [1, 1, 1, 1, 1],\n",
    "                [0, 0, 0, 0, 0]]\n",
    "size_matrix = _init_size_matrix(input_matrix)"
   ]
  },
  {
   "cell_type": "code",
   "execution_count": 3,
   "metadata": {},
   "outputs": [
    {
     "data": {
      "text/plain": [
       "[[0, 1, 1, 0, 1],\n",
       " [1, 1, 0, 1, 0],\n",
       " [0, 1, 1, 1, 0],\n",
       " [1, 1, 2, 2, 1],\n",
       " [1, 2, 2, 3, 2],\n",
       " [0, 0, 0, 0, 0]]"
      ]
     },
     "execution_count": 3,
     "metadata": {},
     "output_type": "execute_result"
    }
   ],
   "source": [
    "# print the size matrix\n",
    "size_matrix"
   ]
  },
  {
   "cell_type": "code",
   "execution_count": 4,
   "metadata": {},
   "outputs": [
    {
     "name": "stdout",
     "output_type": "stream",
     "text": [
      "[1, 1, 1]\n",
      "[1, 1, 1]\n",
      "[1, 1, 1]\n"
     ]
    }
   ],
   "source": [
    "# print the max size sub array\n",
    "max_sub_array(input_matrix,size_matrix)"
   ]
  }
 ],
 "metadata": {
  "kernelspec": {
   "display_name": "Python 3",
   "language": "python",
   "name": "python3"
  },
  "language_info": {
   "codemirror_mode": {
    "name": "ipython",
    "version": 3
   },
   "file_extension": ".py",
   "mimetype": "text/x-python",
   "name": "python",
   "nbconvert_exporter": "python",
   "pygments_lexer": "ipython3",
   "version": "3.5.3"
  }
 },
 "nbformat": 4,
 "nbformat_minor": 2
}
