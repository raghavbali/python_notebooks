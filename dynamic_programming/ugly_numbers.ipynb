{
 "cells": [
  {
   "cell_type": "markdown",
   "metadata": {},
   "source": [
    "# Ugly Numbers\n",
    "\n",
    "Numbers which have only 2,3 or 5 as their prime factors. 1 is included by default.\n",
    "Ex: 1, 2, 3, 4, 5, 6, 8, 9, 10, 12, 15 are all ugly numbers\n",
    "\n",
    "Trick:\n",
    "   + Maintain a list of factors of all three primes like:\n",
    "       + 2X1, 2X2, 2X3, 2X4, 2X5...\n",
    "       + 3X1, 3X2, 3X3, 3X4, 3X5...\n",
    "       + 5X1, 5X2, 5X3, 5X4, 5X5...\n",
    "   + Iterate through all three and pick the least/minimum at every iteration to build the list\n",
    "\n",
    "__Super Ugly Numbers__: When the list of primes is given (instead of being fixed to just 2,3,5). 1 is included by default. Same logic helps to get the nth super ugly number"
   ]
  },
  {
   "cell_type": "markdown",
   "metadata": {},
   "source": [
    "## Tabulation Method\n",
    "+ Bottom up approach\n",
    "+ Fills all values before doing lookup\n",
    "+ Fast lookup"
   ]
  },
  {
   "cell_type": "code",
   "execution_count": 1,
   "metadata": {
    "scrolled": false
   },
   "outputs": [],
   "source": [
    "# initialize the list of super ugly numbers\n",
    "def _init_ugly_tab(n=50000, prime_list=[2,3,5]):\n",
    "    # list of ugly numbers\n",
    "    ugly_list = [1]*(n+1)\n",
    "    \n",
    "    # list of next multiple of given primes\n",
    "    next_prime_list = [1*i for i in prime_list]\n",
    "    \n",
    "    # multiplication factor for each prime\n",
    "    mul_factor_list = [0 for i in prime_list]\n",
    "    \n",
    "    # iterate till the nth number\n",
    "    for i in range(1,n+1):       \n",
    "        # find the current ugly\n",
    "        min_ugly_value = min(next_prime_list)\n",
    "        \n",
    "        ugly_list[i] = min_ugly_value\n",
    "        \n",
    "        # update the multiplcation factor for current prime\n",
    "        for ix,prime in enumerate(next_prime_list):\n",
    "            if min_ugly_value == prime:\n",
    "                mul_factor_list[ix] += 1\n",
    "                next_prime_list[ix] = prime_list[ix]*ugly_list[mul_factor_list[ix]]\n",
    "\n",
    "    return ugly_list\n",
    "\n",
    "# returns the nth ugly\n",
    "def get_ugly_nth(n, ugly_list=[]):\n",
    "    if ugly_list and n <= len(ugly_list) -1:\n",
    "        return ugly_list[n-1]\n",
    "    else:\n",
    "        return -1"
   ]
  },
  {
   "cell_type": "code",
   "execution_count": 2,
   "metadata": {},
   "outputs": [
    {
     "name": "stdout",
     "output_type": "stream",
     "text": [
      "5th Ugly number is= 8\n",
      "12th Ugly number is= 50\n",
      "150th Ugly number is= 26214400\n"
     ]
    }
   ],
   "source": [
    "ugly_numbers_tb = _init_ugly_tab(prime_list=[2,5])\n",
    "print(\"5th Ugly number is= {}\".format(get_ugly_nth(5,ugly_list=ugly_numbers_tb)))\n",
    "print(\"12th Ugly number is= {}\".format(get_ugly_nth(12,ugly_list=ugly_numbers_tb)))\n",
    "print(\"150th Ugly number is= {}\".format(get_ugly_nth(150,ugly_list=ugly_numbers_tb)))"
   ]
  }
 ],
 "metadata": {
  "kernelspec": {
   "display_name": "Python 3",
   "language": "python",
   "name": "python3"
  },
  "language_info": {
   "codemirror_mode": {
    "name": "ipython",
    "version": 3
   },
   "file_extension": ".py",
   "mimetype": "text/x-python",
   "name": "python",
   "nbconvert_exporter": "python",
   "pygments_lexer": "ipython3",
   "version": "3.5.3"
  }
 },
 "nbformat": 4,
 "nbformat_minor": 2
}
