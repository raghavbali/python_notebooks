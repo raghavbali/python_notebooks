{
 "cells": [
  {
   "cell_type": "markdown",
   "metadata": {},
   "source": [
    "# Maximum Sum Path \n",
    "\n",
    "Given a path matrix path[m][n], write a function that returns maximum sum path to reach (m, n) from (0, 0). You can only traverse down and right from a given cell, i.e., from a given cell (i, j), cells (i+1, j) and (i, j+1) can be traversed. \n",
    "\n",
    "\n",
    "Example:\n",
    "\n",
    "Given the following cost matrix, the maximum sum path is (1+5+9+13+14+15+16) = 73.\n",
    "\n",
    "1, 2, 3, 4\n",
    "\n",
    "5, 6, 7, 8\n",
    "\n",
    "9, 10, 11, 12\n",
    "\n",
    "13, 14, 15, 16\n",
    "\n",
    "### Trick:\n",
    "   + Add value of current cell and pick $max(path[i+1,j],path[i,j+1])$\n",
    "   + If at last cell, return value as is\n",
    "   + If at last row, move only right\n",
    "   + If at last column, move only down"
   ]
  },
  {
   "cell_type": "markdown",
   "metadata": {},
   "source": [
    "## Recursive Solution"
   ]
  },
  {
   "cell_type": "code",
   "execution_count": 1,
   "metadata": {
    "ExecuteTime": {
     "end_time": "2020-01-19T09:20:48.238423Z",
     "start_time": "2020-01-19T09:20:48.232100Z"
    }
   },
   "outputs": [],
   "source": [
    "def max_cost_path(row,col,path):\n",
    "    ans = 0\n",
    "    # bottom most cell\n",
    "    if row == len(path) -1 and col == len(path[row]) -1:\n",
    "        return path[row][col]\n",
    "    \n",
    "    # can move only right if at bottom row\n",
    "    if row == len(path) -1:\n",
    "        ans = path[row][col] + max_cost_path(row,col+1,path)\n",
    "    \n",
    "    # can move only down if at last column\n",
    "    elif col == len(path[row]) -1 :\n",
    "        ans = path[row][col] + max_cost_path(row+1,col,path)\n",
    "    \n",
    "    # max of right path or bottom path\n",
    "    elif row < len(path)-1 and col < len(path[row]):\n",
    "        ans = path[row][col] + max(max_cost_path(row+1,col,path),max_cost_path(row,col+1,path))\n",
    "    return ans"
   ]
  },
  {
   "cell_type": "code",
   "execution_count": 2,
   "metadata": {
    "ExecuteTime": {
     "end_time": "2020-01-19T09:20:48.243987Z",
     "start_time": "2020-01-19T09:20:48.241116Z"
    }
   },
   "outputs": [],
   "source": [
    "path = [[1, 2, 3, 4],[5, 6, 7, 8],[9, 10, 11, 12],[13, 14, 15, 16]]\n",
    "row = col = 0"
   ]
  },
  {
   "cell_type": "code",
   "execution_count": 3,
   "metadata": {
    "ExecuteTime": {
     "end_time": "2020-01-19T09:20:48.256866Z",
     "start_time": "2020-01-19T09:20:48.246015Z"
    }
   },
   "outputs": [
    {
     "data": {
      "text/plain": [
       "73"
      ]
     },
     "execution_count": 3,
     "metadata": {},
     "output_type": "execute_result"
    }
   ],
   "source": [
    "max_cost_path(row,col,path)"
   ]
  },
  {
   "cell_type": "markdown",
   "metadata": {
    "ExecuteTime": {
     "end_time": "2020-01-19T08:14:37.099043Z",
     "start_time": "2020-01-19T08:14:37.095945Z"
    }
   },
   "source": [
    "## Dynamic Programming Solution"
   ]
  },
  {
   "cell_type": "code",
   "execution_count": 4,
   "metadata": {
    "ExecuteTime": {
     "end_time": "2020-01-19T09:20:48.266154Z",
     "start_time": "2020-01-19T09:20:48.259802Z"
    }
   },
   "outputs": [],
   "source": [
    "path = [[1, 2, 3, 4],[5, 6, 7, 8],[9, 10, 11, 12],[13, 14, 15, 16]]\n",
    "dp = [[0 for i in range(4)] for j in range(4)]\n",
    "visit_path = [[0 for i in range(4)] for j in range(4)]\n",
    "row = col = 0"
   ]
  },
  {
   "cell_type": "code",
   "execution_count": 5,
   "metadata": {
    "ExecuteTime": {
     "end_time": "2020-01-19T09:20:48.279767Z",
     "start_time": "2020-01-19T09:20:48.269841Z"
    }
   },
   "outputs": [],
   "source": [
    "def max_cost_path(row,col,path):\n",
    "    # return if last cell\n",
    "    if row == len(path) -1 and col == len(path[row]) -1:\n",
    "        return path[row][col]\n",
    "    \n",
    "    # use pre-computed value if cell already visited\n",
    "    if visit_path[row][col] == 1:\n",
    "        return dp[row][col]\n",
    "    \n",
    "    visit_path[row][col] = 1\n",
    "    # can move only right if at bottom row\n",
    "    if row == len(path) -1:\n",
    "        dp[row][col] = path[row][col] + max_cost_path(row,col+1,path)\n",
    "    # can move only down if at last column\n",
    "    elif col == len(path[row]) -1 :\n",
    "        dp[row][col] = path[row][col] + max_cost_path(row+1,col,path)\n",
    "    # max of right path or bottom path\n",
    "    elif row < len(path)-1 and col < len(path[row])-1:\n",
    "        dp[row][col] = path[row][col] + max(max_cost_path(row+1,col,path),max_cost_path(row,col+1,path))\n",
    "    \n",
    "    return dp[row][col]"
   ]
  },
  {
   "cell_type": "code",
   "execution_count": 6,
   "metadata": {
    "ExecuteTime": {
     "end_time": "2020-01-19T09:20:48.288065Z",
     "start_time": "2020-01-19T09:20:48.282807Z"
    }
   },
   "outputs": [
    {
     "data": {
      "text/plain": [
       "73"
      ]
     },
     "execution_count": 6,
     "metadata": {},
     "output_type": "execute_result"
    }
   ],
   "source": [
    "max_cost_path(row,col,path)"
   ]
  },
  {
   "cell_type": "markdown",
   "metadata": {},
   "source": [
    "# Print the Maximum Sum Path"
   ]
  },
  {
   "cell_type": "code",
   "execution_count": 7,
   "metadata": {
    "ExecuteTime": {
     "end_time": "2020-01-19T09:20:48.297683Z",
     "start_time": "2020-01-19T09:20:48.292415Z"
    }
   },
   "outputs": [],
   "source": [
    "path = [[1, 2, 3, 4],[5, 6, 7, 8],[9, 10, 11, 12],[13, 14, 15, 16]]\n",
    "dp = [[0 for i in range(4)] for j in range(4)]\n",
    "visit_path = [[0 for i in range(4)] for j in range(4)]\n",
    "row = col = 0"
   ]
  },
  {
   "cell_type": "code",
   "execution_count": 8,
   "metadata": {
    "ExecuteTime": {
     "end_time": "2020-01-19T09:20:48.306831Z",
     "start_time": "2020-01-19T09:20:48.301171Z"
    }
   },
   "outputs": [
    {
     "data": {
      "text/plain": [
       "73"
      ]
     },
     "execution_count": 8,
     "metadata": {},
     "output_type": "execute_result"
    }
   ],
   "source": [
    "max_cost_path(row,col,path)"
   ]
  },
  {
   "cell_type": "code",
   "execution_count": 9,
   "metadata": {
    "ExecuteTime": {
     "end_time": "2020-01-19T09:20:48.320051Z",
     "start_time": "2020-01-19T09:20:48.310279Z"
    }
   },
   "outputs": [],
   "source": [
    "def get_parent(i, j):\n",
    "    print(i,j)\n",
    "    if i==0 and j==0:\n",
    "        return\n",
    "    if dp[i - 1][j] > dp[i][j - 1]:\n",
    "        return get_parent(i - 1, j)\n",
    "    return get_parent(i, j - 1)"
   ]
  },
  {
   "cell_type": "code",
   "execution_count": 11,
   "metadata": {
    "ExecuteTime": {
     "end_time": "2020-01-19T09:20:56.644735Z",
     "start_time": "2020-01-19T09:20:56.641080Z"
    }
   },
   "outputs": [
    {
     "name": "stdout",
     "output_type": "stream",
     "text": [
      "3 3\n",
      "3 2\n",
      "3 1\n",
      "3 0\n",
      "2 0\n",
      "1 0\n",
      "0 0\n"
     ]
    }
   ],
   "source": [
    "get_parent(3,3)"
   ]
  },
  {
   "cell_type": "code",
   "execution_count": null,
   "metadata": {},
   "outputs": [],
   "source": []
  }
 ],
 "metadata": {
  "kernelspec": {
   "display_name": "Python 3",
   "language": "python",
   "name": "python3"
  },
  "language_info": {
   "codemirror_mode": {
    "name": "ipython",
    "version": 3
   },
   "file_extension": ".py",
   "mimetype": "text/x-python",
   "name": "python",
   "nbconvert_exporter": "python",
   "pygments_lexer": "ipython3",
   "version": "3.6.8"
  }
 },
 "nbformat": 4,
 "nbformat_minor": 2
}
